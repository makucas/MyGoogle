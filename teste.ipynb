{
 "cells": [
  {
   "cell_type": "code",
   "execution_count": 2,
   "metadata": {},
   "outputs": [],
   "source": [
    "from datasets import load_dataset\n",
    "dataset = load_dataset(\"eduagarcia/cc_news_pt\", split=\"train\",  streaming=True)"
   ]
  },
  {
   "cell_type": "code",
   "execution_count": 15,
   "metadata": {},
   "outputs": [
    {
     "data": {
      "text/html": [
       "<div>\n",
       "<style scoped>\n",
       "    .dataframe tbody tr th:only-of-type {\n",
       "        vertical-align: middle;\n",
       "    }\n",
       "\n",
       "    .dataframe tbody tr th {\n",
       "        vertical-align: top;\n",
       "    }\n",
       "\n",
       "    .dataframe thead th {\n",
       "        text-align: right;\n",
       "    }\n",
       "</style>\n",
       "<table border=\"1\" class=\"dataframe\">\n",
       "  <thead>\n",
       "    <tr style=\"text-align: right;\">\n",
       "      <th></th>\n",
       "      <th>title</th>\n",
       "      <th>text</th>\n",
       "      <th>authors</th>\n",
       "      <th>domain</th>\n",
       "      <th>date</th>\n",
       "      <th>description</th>\n",
       "      <th>url</th>\n",
       "      <th>image_url</th>\n",
       "      <th>date_download</th>\n",
       "    </tr>\n",
       "  </thead>\n",
       "  <tbody>\n",
       "    <tr>\n",
       "      <th>0</th>\n",
       "      <td>Hoje é dia de Adrenalina com Dj Tiago Calil na...</td>\n",
       "      <td>Os eventos na Abs estão bombando , um dos gran...</td>\n",
       "      <td>Raphael Gomes</td>\n",
       "      <td>portalbaixada.com.br</td>\n",
       "      <td>2016-09-06 00:00:00</td>\n",
       "      <td>Os eventos na Abs estão bombando , um dos gran...</td>\n",
       "      <td>http://portalbaixada.com.br/hoje-e-dia-de-adre...</td>\n",
       "      <td>http://portalbaixada.com.br/wp-content/uploads...</td>\n",
       "      <td>2016-09-03 20:52:12+00:00</td>\n",
       "    </tr>\n",
       "  </tbody>\n",
       "</table>\n",
       "</div>"
      ],
      "text/plain": [
       "                                               title  \\\n",
       "0  Hoje é dia de Adrenalina com Dj Tiago Calil na...   \n",
       "\n",
       "                                                text        authors  \\\n",
       "0  Os eventos na Abs estão bombando , um dos gran...  Raphael Gomes   \n",
       "\n",
       "                 domain                 date  \\\n",
       "0  portalbaixada.com.br  2016-09-06 00:00:00   \n",
       "\n",
       "                                         description  \\\n",
       "0  Os eventos na Abs estão bombando , um dos gran...   \n",
       "\n",
       "                                                 url  \\\n",
       "0  http://portalbaixada.com.br/hoje-e-dia-de-adre...   \n",
       "\n",
       "                                           image_url  \\\n",
       "0  http://portalbaixada.com.br/wp-content/uploads...   \n",
       "\n",
       "               date_download  \n",
       "0  2016-09-03 20:52:12+00:00  "
      ]
     },
     "execution_count": 15,
     "metadata": {},
     "output_type": "execute_result"
    }
   ],
   "source": [
    "import pandas as pd\n",
    "dict = next(iter(dataset))\n",
    "df = pd.DataFrame([dict])\n",
    "df.head()"
   ]
  },
  {
   "cell_type": "code",
   "execution_count": 32,
   "metadata": {},
   "outputs": [
    {
     "data": {
      "text/html": [
       "<div>\n",
       "<style scoped>\n",
       "    .dataframe tbody tr th:only-of-type {\n",
       "        vertical-align: middle;\n",
       "    }\n",
       "\n",
       "    .dataframe tbody tr th {\n",
       "        vertical-align: top;\n",
       "    }\n",
       "\n",
       "    .dataframe thead th {\n",
       "        text-align: right;\n",
       "    }\n",
       "</style>\n",
       "<table border=\"1\" class=\"dataframe\">\n",
       "  <thead>\n",
       "    <tr style=\"text-align: right;\">\n",
       "      <th></th>\n",
       "      <th>title</th>\n",
       "      <th>text</th>\n",
       "      <th>authors</th>\n",
       "      <th>domain</th>\n",
       "      <th>date</th>\n",
       "      <th>description</th>\n",
       "      <th>url</th>\n",
       "      <th>image_url</th>\n",
       "      <th>date_download</th>\n",
       "    </tr>\n",
       "  </thead>\n",
       "  <tbody>\n",
       "    <tr>\n",
       "      <th>0</th>\n",
       "      <td>Hoje é dia de Adrenalina com Dj Tiago Calil na...</td>\n",
       "      <td>Os eventos na Abs estão bombando , um dos gran...</td>\n",
       "      <td>Raphael Gomes</td>\n",
       "      <td>portalbaixada.com.br</td>\n",
       "      <td>2016-09-06 00:00:00</td>\n",
       "      <td>Os eventos na Abs estão bombando , um dos gran...</td>\n",
       "      <td>http://portalbaixada.com.br/hoje-e-dia-de-adre...</td>\n",
       "      <td>http://portalbaixada.com.br/wp-content/uploads...</td>\n",
       "      <td>2016-09-03 20:52:12+00:00</td>\n",
       "    </tr>\n",
       "    <tr>\n",
       "      <th>1</th>\n",
       "      <td>O AquaRio - o aquário do Rio de Janeiro - inic...</td>\n",
       "      <td>A pouco menos de dois meses da inauguração, pr...</td>\n",
       "      <td>Raphael Gomes</td>\n",
       "      <td>portalbaixada.com.br</td>\n",
       "      <td>2016-09-20 10:52:17</td>\n",
       "      <td>A pouco menos de dois meses da inauguração, pr...</td>\n",
       "      <td>http://portalbaixada.com.br/o-aquario-o-aquari...</td>\n",
       "      <td>http://portalbaixada.com.br/wp-content/uploads...</td>\n",
       "      <td>2016-09-20 15:05:07+00:00</td>\n",
       "    </tr>\n",
       "    <tr>\n",
       "      <th>2</th>\n",
       "      <td>Uniabeu inscreve para mil vagas em cursos prof...</td>\n",
       "      <td>O Centro Universitário Uniabeu está com as ins...</td>\n",
       "      <td></td>\n",
       "      <td>portalbaixada.com.br</td>\n",
       "      <td>2016-09-07 16:51:30</td>\n",
       "      <td>O Centro Universitário Uniabeu está com as ins...</td>\n",
       "      <td>http://portalbaixada.com.br/uniabeu-inscreve-p...</td>\n",
       "      <td>http://portalbaixada.com.br/wp-content/uploads...</td>\n",
       "      <td>2016-09-07 20:55:02+00:00</td>\n",
       "    </tr>\n",
       "    <tr>\n",
       "      <th>3</th>\n",
       "      <td>Hoje tem DJ Jefferson agitando a Quinta Nobre ...</td>\n",
       "      <td>Hoje tem DJ Jefferson tocando todos os Ritmos ...</td>\n",
       "      <td>Raphael Gomes</td>\n",
       "      <td>portalbaixada.com.br</td>\n",
       "      <td>2016-09-01 16:05:14</td>\n",
       "      <td>Hoje tem DJ Jefferson tocando todos os Ritmos ...</td>\n",
       "      <td>http://portalbaixada.com.br/hoje-tem-dj-jeffer...</td>\n",
       "      <td>http://portalbaixada.com.br/wp-content/uploads...</td>\n",
       "      <td>2016-09-01 20:50:38+00:00</td>\n",
       "    </tr>\n",
       "    <tr>\n",
       "      <th>4</th>\n",
       "      <td>Hoje tem Furdunço. DJ William vai agitar tudo ...</td>\n",
       "      <td>Hoje um dos DJs mais Tops estará se apresentan...</td>\n",
       "      <td>Raphael Gomes</td>\n",
       "      <td>portalbaixada.com.br</td>\n",
       "      <td>2016-09-21 15:27:21</td>\n",
       "      <td>Hoje um dos DJs mais Tops estará se apresentan...</td>\n",
       "      <td>http://portalbaixada.com.br/hoje-tem-furdunco-...</td>\n",
       "      <td>http://portalbaixada.com.br/wp-content/uploads...</td>\n",
       "      <td>2016-09-21 19:05:58+00:00</td>\n",
       "    </tr>\n",
       "  </tbody>\n",
       "</table>\n",
       "</div>"
      ],
      "text/plain": [
       "                                               title  \\\n",
       "0  Hoje é dia de Adrenalina com Dj Tiago Calil na...   \n",
       "1  O AquaRio - o aquário do Rio de Janeiro - inic...   \n",
       "2  Uniabeu inscreve para mil vagas em cursos prof...   \n",
       "3  Hoje tem DJ Jefferson agitando a Quinta Nobre ...   \n",
       "4  Hoje tem Furdunço. DJ William vai agitar tudo ...   \n",
       "\n",
       "                                                text        authors  \\\n",
       "0  Os eventos na Abs estão bombando , um dos gran...  Raphael Gomes   \n",
       "1  A pouco menos de dois meses da inauguração, pr...  Raphael Gomes   \n",
       "2  O Centro Universitário Uniabeu está com as ins...                  \n",
       "3  Hoje tem DJ Jefferson tocando todos os Ritmos ...  Raphael Gomes   \n",
       "4  Hoje um dos DJs mais Tops estará se apresentan...  Raphael Gomes   \n",
       "\n",
       "                 domain                 date  \\\n",
       "0  portalbaixada.com.br  2016-09-06 00:00:00   \n",
       "1  portalbaixada.com.br  2016-09-20 10:52:17   \n",
       "2  portalbaixada.com.br  2016-09-07 16:51:30   \n",
       "3  portalbaixada.com.br  2016-09-01 16:05:14   \n",
       "4  portalbaixada.com.br  2016-09-21 15:27:21   \n",
       "\n",
       "                                         description  \\\n",
       "0  Os eventos na Abs estão bombando , um dos gran...   \n",
       "1  A pouco menos de dois meses da inauguração, pr...   \n",
       "2  O Centro Universitário Uniabeu está com as ins...   \n",
       "3  Hoje tem DJ Jefferson tocando todos os Ritmos ...   \n",
       "4  Hoje um dos DJs mais Tops estará se apresentan...   \n",
       "\n",
       "                                                 url  \\\n",
       "0  http://portalbaixada.com.br/hoje-e-dia-de-adre...   \n",
       "1  http://portalbaixada.com.br/o-aquario-o-aquari...   \n",
       "2  http://portalbaixada.com.br/uniabeu-inscreve-p...   \n",
       "3  http://portalbaixada.com.br/hoje-tem-dj-jeffer...   \n",
       "4  http://portalbaixada.com.br/hoje-tem-furdunco-...   \n",
       "\n",
       "                                           image_url  \\\n",
       "0  http://portalbaixada.com.br/wp-content/uploads...   \n",
       "1  http://portalbaixada.com.br/wp-content/uploads...   \n",
       "2  http://portalbaixada.com.br/wp-content/uploads...   \n",
       "3  http://portalbaixada.com.br/wp-content/uploads...   \n",
       "4  http://portalbaixada.com.br/wp-content/uploads...   \n",
       "\n",
       "               date_download  \n",
       "0  2016-09-03 20:52:12+00:00  \n",
       "1  2016-09-20 15:05:07+00:00  \n",
       "2  2016-09-07 20:55:02+00:00  \n",
       "3  2016-09-01 20:50:38+00:00  \n",
       "4  2016-09-21 19:05:58+00:00  "
      ]
     },
     "execution_count": 32,
     "metadata": {},
     "output_type": "execute_result"
    }
   ],
   "source": [
    "data_list = []\n",
    "for i, example in enumerate(dataset):\n",
    "    if i == 5:\n",
    "        break\n",
    "    data_list.append(example)\n",
    "\n",
    "df = pd.DataFrame(data_list)\n",
    "df.head()"
   ]
  },
  {
   "cell_type": "code",
   "execution_count": 41,
   "metadata": {},
   "outputs": [],
   "source": [
    "import os\n",
    "folder_path = \"dataset/\"\n",
    "file_path = os.path.join(folder_path, 'sample_dataset.csv')\n",
    "df.to_csv(file_path, index=False)"
   ]
  },
  {
   "cell_type": "code",
   "execution_count": 50,
   "metadata": {},
   "outputs": [],
   "source": [
    "import json \n",
    "\n",
    "with open('dataset/sample_dataset.json', 'w') as json_file:\n",
    "    json.dump(data_list, json_file)"
   ]
  },
  {
   "cell_type": "code",
   "execution_count": 51,
   "metadata": {},
   "outputs": [],
   "source": [
    "with open('dataset/sample_dataset.json', 'r') as json_file:\n",
    "    data = json.load(json_file)"
   ]
  },
  {
   "cell_type": "code",
   "execution_count": 53,
   "metadata": {},
   "outputs": [
    {
     "data": {
      "text/plain": [
       "{'title': 'Hoje é dia de Adrenalina com Dj Tiago Calil na Abs Lounge',\n",
       " 'text': 'Os eventos na Abs estão bombando , um dos grandes nomes da HOUSE Music se apresenta toda semana no local , É Ele o DJ Tiago Calil do Programa Adrenalina da Rádio Transamerica. Calil é gerente artístico do Clube e vem trazendo os melhores ritmos da noite carioca pra Abs.',\n",
       " 'authors': 'Raphael Gomes',\n",
       " 'domain': 'portalbaixada.com.br',\n",
       " 'date': '2016-09-06 00:00:00',\n",
       " 'description': 'Os eventos na Abs estão bombando , um dos grandes nomes da HOUSE Music se apresenta toda semana no local , É Ele o DJ Tiago Calil do Programa Adrenalina da',\n",
       " 'url': 'http://portalbaixada.com.br/hoje-e-dia-de-adrenalina-com-dj-tiago-calil-na-abs-lounge/',\n",
       " 'image_url': 'http://portalbaixada.com.br/wp-content/uploads/2016/09/600370_1101396213251920_1029052156768531205_n-1.jpg',\n",
       " 'date_download': '2016-09-03 20:52:12+00:00'}"
      ]
     },
     "execution_count": 53,
     "metadata": {},
     "output_type": "execute_result"
    }
   ],
   "source": [
    "data[0]"
   ]
  },
  {
   "cell_type": "code",
   "execution_count": 56,
   "metadata": {},
   "outputs": [],
   "source": [
    "teste = []\n",
    "\n",
    "if teste:\n",
    "    print(\"?\")"
   ]
  }
 ],
 "metadata": {
  "kernelspec": {
   "display_name": "base",
   "language": "python",
   "name": "python3"
  },
  "language_info": {
   "codemirror_mode": {
    "name": "ipython",
    "version": 3
   },
   "file_extension": ".py",
   "mimetype": "text/x-python",
   "name": "python",
   "nbconvert_exporter": "python",
   "pygments_lexer": "ipython3",
   "version": "undefined.undefined.undefined"
  }
 },
 "nbformat": 4,
 "nbformat_minor": 2
}
